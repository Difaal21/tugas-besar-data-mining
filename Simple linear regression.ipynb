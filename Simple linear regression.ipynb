{
 "cells": [
  {
   "cell_type": "markdown",
   "metadata": {},
   "source": [
    "# IMPORT LIBRARY"
   ]
  },
  {
   "cell_type": "code",
   "execution_count": 3,
   "metadata": {},
   "outputs": [],
   "source": [
    "import numpy as np\n",
    "import matplotlib.pyplot as plt\n",
    "import pandas as pd"
   ]
  },
  {
   "cell_type": "markdown",
   "metadata": {},
   "source": [
    "# IMPORT DATASET"
   ]
  },
  {
   "cell_type": "code",
   "execution_count": 4,
   "metadata": {},
   "outputs": [],
   "source": [
    "# Read Dataset\n",
    "dataset = pd.read_excel('Graduate Admission.xlsx')\n",
    "# Delete columns University Ratings\n",
    "del dataset['University Rating']\n",
    "\n",
    "# Make a variabel X and Y\n",
    "X = dataset.iloc[:, :-1].values\n",
    "y = dataset.iloc[:, 1].values"
   ]
  },
  {
   "cell_type": "markdown",
   "metadata": {},
   "source": [
    "# Splitting the dataset into the Training set and Test set"
   ]
  },
  {
   "cell_type": "code",
   "execution_count": 5,
   "metadata": {},
   "outputs": [],
   "source": [
    "from sklearn.model_selection import train_test_split\n",
    "\n",
    "X_train, X_test, y_train, y_test = train_test_split(X, y, test_size = 0.3, random_state = 0)"
   ]
  },
  {
   "cell_type": "markdown",
   "metadata": {},
   "source": [
    "# Fitting Simple Linear Regression to the Training set"
   ]
  },
  {
   "cell_type": "code",
   "execution_count": 6,
   "metadata": {},
   "outputs": [
    {
     "data": {
      "text/plain": [
       "LinearRegression(copy_X=True, fit_intercept=True, n_jobs=None,\n",
       "         normalize=False)"
      ]
     },
     "execution_count": 6,
     "metadata": {},
     "output_type": "execute_result"
    }
   ],
   "source": [
    "from sklearn.linear_model import LinearRegression\n",
    "\n",
    "regressor = LinearRegression()\n",
    "regressor.fit(X_train, y_train)"
   ]
  },
  {
   "cell_type": "markdown",
   "metadata": {},
   "source": [
    "# Predicting the Test set results"
   ]
  },
  {
   "cell_type": "code",
   "execution_count": 7,
   "metadata": {},
   "outputs": [
    {
     "data": {
      "text/plain": [
       "array([0.64896123, 0.63882912, 0.82120702, 0.61856491, 0.71988597,\n",
       "       0.64896123, 0.67935754, 0.67935754, 0.88199965, 0.87186755,\n",
       "       0.55777228, 0.89213176, 0.76041439, 0.57803649, 0.84147123,\n",
       "       0.66922544, 0.67935754, 0.85160334, 0.70975386, 0.68948965,\n",
       "       0.85160334, 0.83133912, 0.56790439, 0.50711175, 0.76041439,\n",
       "       0.56790439, 0.51724386, 0.69962176, 0.92252807, 0.69962176,\n",
       "       0.67935754, 0.7908107 , 0.67935754, 0.51724386, 0.81107491,\n",
       "       0.83133912, 0.74015018, 0.7908107 , 0.62869702, 0.89213176,\n",
       "       0.7806786 , 0.69962176, 0.77054649, 0.80094281, 0.76041439,\n",
       "       0.7806786 , 0.70975386, 0.62869702, 0.61856491, 0.5983007 ,\n",
       "       0.66922544, 0.81107491, 0.71988597, 0.90226386, 0.66922544,\n",
       "       0.80094281, 0.90226386, 0.81107491, 0.7806786 , 0.7806786 ,\n",
       "       0.69962176, 0.49697965, 0.69962176, 0.52737596, 0.7908107 ,\n",
       "       0.80094281, 0.76041439, 0.86173544, 0.82120702, 0.76041439,\n",
       "       0.63882912, 0.83133912, 0.74015018, 0.67935754, 0.94279228,\n",
       "       0.66922544, 0.61856491, 0.68948965, 0.90226386, 0.52737596,\n",
       "       0.75028228, 0.81107491, 0.76041439, 0.85160334, 0.64896123,\n",
       "       0.80094281, 0.65909333, 0.77054649, 0.80094281, 0.82120702,\n",
       "       0.7806786 , 0.91239597, 0.71988597, 0.57803649, 0.80094281,\n",
       "       0.70975386, 0.69962176, 0.69962176, 0.81107491, 0.68948965,\n",
       "       0.76041439, 0.70975386, 0.66922544, 0.52737596, 0.77054649,\n",
       "       0.67935754, 0.96305649, 0.68948965, 0.80094281, 0.73001807,\n",
       "       0.61856491, 0.71988597, 0.65909333, 0.81107491, 0.86173544,\n",
       "       0.7806786 , 0.87186755, 0.83133912, 0.65909333, 0.60843281])"
      ]
     },
     "execution_count": 7,
     "metadata": {},
     "output_type": "execute_result"
    }
   ],
   "source": [
    "y_pred = regressor.predict(X_test)\n",
    "y_pred"
   ]
  },
  {
   "cell_type": "markdown",
   "metadata": {},
   "source": [
    "# Visualising the Training set results"
   ]
  },
  {
   "cell_type": "code",
   "execution_count": 8,
   "metadata": {},
   "outputs": [
    {
     "data": {
      "image/png": "[encoded data removed]",
      "text/plain": [
       "<Figure size 432x288 with 1 Axes>"
      ]
     },
     "metadata": {
      "needs_background": "light"
     },
     "output_type": "display_data"
    }
   ],
   "source": [
    "plt.scatter(X_train, y_train, color = 'red')\n",
    "plt.plot(X_train, regressor.predict(X_train), color = 'blue')\n",
    "plt.title('GRE Score vs Chance of Admit')\n",
    "plt.xlabel('GRE Score')\n",
    "plt.ylabel('Chance of Admit')\n",
    "plt.show()"
   ]
  },
  {
   "cell_type": "code",
   "execution_count": null,
   "metadata": {},
   "outputs": [],
   "source": []
  }
 ],
 "metadata": {
  "kernelspec": {
   "display_name": "Python 3",
   "language": "python",
   "name": "python3"
  },
  "language_info": {
   "codemirror_mode": {
    "name": "ipython",
    "version": 3
   },
   "file_extension": ".py",
   "mimetype": "text/x-python",
   "name": "python",
   "nbconvert_exporter": "python",
   "pygments_lexer": "ipython3",
   "version": "3.7.1"
  }
 },
 "nbformat": 4,
 "nbformat_minor": 2
}
